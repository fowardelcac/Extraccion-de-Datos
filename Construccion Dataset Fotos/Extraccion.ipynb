{
 "cells": [
  {
   "cell_type": "code",
   "execution_count": 2,
   "id": "036109ea",
   "metadata": {},
   "outputs": [],
   "source": [
    "from selenium import webdriver\n",
    "from selenium.webdriver.chrome.service import Service\n",
    "from selenium.webdriver.common.by import By\n",
    "from selenium.webdriver.chrome.options import Options\n",
    "from selenium.webdriver.support.ui import WebDriverWait\n",
    "from selenium.webdriver.support import expected_conditions as EC\n",
    "import requests\n",
    "import os\n",
    "import pandas as pd"
   ]
  },
  {
   "cell_type": "code",
   "execution_count": null,
   "id": "5c17b502",
   "metadata": {},
   "outputs": [],
   "source": [
    "# Read the CSV file into a DataFrame\n",
    "df = pd.read_csv(\"C:/Users/juans/Documents/cv/Proyectos/Extraccion de Datos/Construccion Dataset Fotos/istockphoto.csv\")\n",
    "\n",
    "# Extract the \"Link\" column from the DataFrame and convert it to a list\n",
    "# Limit the list to the first 20 links\n",
    "links = df[\"Link\"].tolist()[:20]\n"
   ]
  },
  {
   "cell_type": "code",
   "execution_count": 9,
   "id": "0e0c0bc5",
   "metadata": {},
   "outputs": [
    {
     "data": {
      "text/plain": [
       "['https://media.istockphoto.com/id/2153377122/photo/smiling-confident-latin-hispanic-mature-business-man-standing-crossed-arms-isolated-on-white.jpg?s=612x612&w=0&k=20&c=UkUw80EC6cBcjtytVreqf8wY_Vv2lJ7ukmj6xj_X90c=',\n",
       " 'https://media.istockphoto.com/id/1351031406/photo/handsome-mature-man-with-arms-crossed-studio-portrait-isolated-on-grey-background.jpg?s=612x612&w=0&k=20&c=SKXxsNfRFoGn_Fwjxz7ZFxanpXpAsO4xQVNznDy1xcM=',\n",
       " 'https://media.istockphoto.com/id/2194776613/photo/middle-aged-man-smiling-at-the-camera-on-white-background-wearing-formal-clothes.jpg?s=612x612&w=0&k=20&c=pTNbQnAY6vTZNqYin5EbyN7pZlqIPXLNqycCBS9phDw=',\n",
       " 'https://media.istockphoto.com/id/2160001647/photo/a-40-year-old-successful-brunette-man-dressed-in-a-blue-jacket-is-proud-of-himself.jpg?s=612x612&w=0&k=20&c=HgEvxZG5btNSzlP25xgDu6-tuPZmHcl2w0TIggKVpXc=',\n",
       " 'https://media.istockphoto.com/id/1361893855/photo/young-man-portrait.jpg?s=612x612&w=0&k=20&c=Vv-cybKvGRRxmSODJPbeHjosAziSP23HbKQXc7WQPVM=',\n",
       " 'https://media.istockphoto.com/id/2160741846/photo/happy-middle-aged-business-man-isolated-on-white-background-portrait.jpg?s=612x612&w=0&k=20&c=x2YZckIC5Mmv5GcYdABkGG2fBZgvSMMivMUN3JjxctI=',\n",
       " 'https://media.istockphoto.com/id/1075455058/photo/happy-satisfied-mature-businessman-looking-at-camera-isolated-on-white-background.jpg?s=612x612&w=0&k=20&c=rJDxewE7Xq-rHdTB5SAm4idir3fXa2tFIgvq25JOsPE=',\n",
       " 'https://media.istockphoto.com/id/1329699304/photo/middle-aged-businessman-wearing-suit-and-tie-while-standing-a-isolated-background.jpg?s=612x612&w=0&k=20&c=HrValtUDBoUbCRlOjEhWSBDDkgkyKcLRhm-SifNs5vc=',\n",
       " 'https://media.istockphoto.com/id/1183952288/photo/youve-got-to-give-your-best-to-become-your-best.jpg?s=612x612&w=0&k=20&c=gxxKrepgvbKOrYyUzd6CCBXMsIX2LGurRVAsIjxaOAM=',\n",
       " 'https://media.istockphoto.com/id/1159551898/photo/confident-businessman-wearing-suit-with-arms-crossed-isolated-against-white-background.jpg?s=612x612&w=0&k=20&c=CiLh3dPXa3JJ2WihBFvj87YVCFFCUrjJdmYtnPwG-z0=',\n",
       " 'https://media.istockphoto.com/id/1433041287/photo/businessman-smiling-with-arms-crossed-on-white-background.jpg?s=612x612&w=0&k=20&c=gEnE2f1EoWxsZLpDXjDk2tnuYh5CQGFNZ4MvSM2vM9s=',\n",
       " 'https://media.istockphoto.com/id/2158914624/photo/european-40-year-old-business-man-looking-confidently-at-the-camera.jpg?s=612x612&w=0&k=20&c=sF5lpkyh1MzO2utLVTWHlfwa2qgfPrS5IkgvKR3nSo8=',\n",
       " 'https://media.istockphoto.com/id/168266874/photo/smiling-executive-with-arms-crossed.jpg?s=612x612&w=0&k=20&c=4i9naD1WuDZfp8P6HHD0gFyG-94JJwavHFfW1ilR4eo=',\n",
       " 'https://media.istockphoto.com/id/917745002/photo/successful-businessman-studio-portrait.jpg?s=612x612&w=0&k=20&c=I3LP8dPyGJxgmD6x_t-OAHr6dxNwblAOa-KnK1CrPPQ=',\n",
       " 'https://media.istockphoto.com/id/1934523168/photo/portrait-of-senior-businessman-smiling-at-isolated-background.jpg?s=612x612&w=0&k=20&c=FfW3wIKN5a-FWSm1-wPIdbg7P_mCQ9suNKsejQCnuf4=',\n",
       " 'https://media.istockphoto.com/id/609691870/photo/my-goals-are-fuelled-by-the-motivation-to-succeed.jpg?s=612x612&w=0&k=20&c=7ra7zqgM2xO3lAiMecVbe-mlSHck944K0ZmCu2-YOL8=',\n",
       " 'https://media.istockphoto.com/id/917745320/photo/executive-businessman-portrait.jpg?s=612x612&w=0&k=20&c=p9BGqPFJK5Q6czS9fEzChwrD6LdNec262G3g-1IvuII=',\n",
       " 'https://media.istockphoto.com/id/1439699853/photo/businessman-with-grizzled-hair-crossing-his-arms.jpg?s=612x612&w=0&k=20&c=-d7s1AeWfCXu8yCLy1_m8E1qMz1azt9fi6FQjsSLDEI=',\n",
       " 'https://media.istockphoto.com/id/2194877962/photo/portrait-of-happy-businessman.jpg?s=612x612&w=0&k=20&c=THYgA_0mz6y9APGg-e-2MKe_S6bHs2K0lmbyPXxaPj4=',\n",
       " 'https://media.istockphoto.com/id/176095676/photo/portrait-of-a-businessman-smiling-with-arms-crossed.jpg?s=612x612&w=0&k=20&c=zThwAZGVTtabGdno5oyYGDGPXUE9qDrElhP5UIslqek=']"
      ]
     },
     "execution_count": 9,
     "metadata": {},
     "output_type": "execute_result"
    }
   ],
   "source": [
    "links"
   ]
  },
  {
   "cell_type": "code",
   "execution_count": 10,
   "id": "389a92f2",
   "metadata": {},
   "outputs": [
    {
     "name": "stdout",
     "output_type": "stream",
     "text": [
      "URL de la imagen: https://media.istockphoto.com/id/2153377122/photo/smiling-confident-latin-hispanic-mature-business-man-standing-crossed-arms-isolated-on-white.jpg?s=612x612&w=0&k=20&c=UkUw80EC6cBcjtytVreqf8wY_Vv2lJ7ukmj6xj_X90c=\n",
      "Imagen descargada correctamente\n",
      "URL de la imagen: https://media.istockphoto.com/id/1351031406/photo/handsome-mature-man-with-arms-crossed-studio-portrait-isolated-on-grey-background.jpg?s=612x612&w=0&k=20&c=SKXxsNfRFoGn_Fwjxz7ZFxanpXpAsO4xQVNznDy1xcM=\n",
      "Imagen descargada correctamente\n",
      "URL de la imagen: https://media.istockphoto.com/id/2194776613/photo/middle-aged-man-smiling-at-the-camera-on-white-background-wearing-formal-clothes.jpg?s=612x612&w=0&k=20&c=pTNbQnAY6vTZNqYin5EbyN7pZlqIPXLNqycCBS9phDw=\n",
      "Imagen descargada correctamente\n",
      "URL de la imagen: https://media.istockphoto.com/id/2160001647/photo/a-40-year-old-successful-brunette-man-dressed-in-a-blue-jacket-is-proud-of-himself.jpg?s=612x612&w=0&k=20&c=HgEvxZG5btNSzlP25xgDu6-tuPZmHcl2w0TIggKVpXc=\n",
      "Imagen descargada correctamente\n",
      "URL de la imagen: https://media.istockphoto.com/id/1361893855/photo/young-man-portrait.jpg?s=612x612&w=0&k=20&c=Vv-cybKvGRRxmSODJPbeHjosAziSP23HbKQXc7WQPVM=\n",
      "Imagen descargada correctamente\n",
      "URL de la imagen: https://media.istockphoto.com/id/2160741846/photo/happy-middle-aged-business-man-isolated-on-white-background-portrait.jpg?s=612x612&w=0&k=20&c=x2YZckIC5Mmv5GcYdABkGG2fBZgvSMMivMUN3JjxctI=\n",
      "Imagen descargada correctamente\n",
      "URL de la imagen: https://media.istockphoto.com/id/1075455058/photo/happy-satisfied-mature-businessman-looking-at-camera-isolated-on-white-background.jpg?s=612x612&w=0&k=20&c=rJDxewE7Xq-rHdTB5SAm4idir3fXa2tFIgvq25JOsPE=\n",
      "Imagen descargada correctamente\n",
      "URL de la imagen: https://media.istockphoto.com/id/1329699304/photo/middle-aged-businessman-wearing-suit-and-tie-while-standing-a-isolated-background.jpg?s=612x612&w=0&k=20&c=HrValtUDBoUbCRlOjEhWSBDDkgkyKcLRhm-SifNs5vc=\n",
      "Imagen descargada correctamente\n",
      "URL de la imagen: https://media.istockphoto.com/id/1183952288/photo/youve-got-to-give-your-best-to-become-your-best.jpg?s=612x612&w=0&k=20&c=gxxKrepgvbKOrYyUzd6CCBXMsIX2LGurRVAsIjxaOAM=\n",
      "Imagen descargada correctamente\n",
      "URL de la imagen: https://media.istockphoto.com/id/1159551898/photo/confident-businessman-wearing-suit-with-arms-crossed-isolated-against-white-background.jpg?s=612x612&w=0&k=20&c=CiLh3dPXa3JJ2WihBFvj87YVCFFCUrjJdmYtnPwG-z0=\n",
      "Imagen descargada correctamente\n",
      "URL de la imagen: https://media.istockphoto.com/id/1433041287/photo/businessman-smiling-with-arms-crossed-on-white-background.jpg?s=612x612&w=0&k=20&c=gEnE2f1EoWxsZLpDXjDk2tnuYh5CQGFNZ4MvSM2vM9s=\n",
      "Imagen descargada correctamente\n",
      "URL de la imagen: https://media.istockphoto.com/id/2158914624/photo/european-40-year-old-business-man-looking-confidently-at-the-camera.jpg?s=612x612&w=0&k=20&c=sF5lpkyh1MzO2utLVTWHlfwa2qgfPrS5IkgvKR3nSo8=\n",
      "Imagen descargada correctamente\n",
      "URL de la imagen: https://media.istockphoto.com/id/168266874/photo/smiling-executive-with-arms-crossed.jpg?s=612x612&w=0&k=20&c=4i9naD1WuDZfp8P6HHD0gFyG-94JJwavHFfW1ilR4eo=\n",
      "Imagen descargada correctamente\n",
      "URL de la imagen: https://media.istockphoto.com/id/917745002/photo/successful-businessman-studio-portrait.jpg?s=612x612&w=0&k=20&c=I3LP8dPyGJxgmD6x_t-OAHr6dxNwblAOa-KnK1CrPPQ=\n",
      "Imagen descargada correctamente\n",
      "URL de la imagen: https://media.istockphoto.com/id/1934523168/photo/portrait-of-senior-businessman-smiling-at-isolated-background.jpg?s=612x612&w=0&k=20&c=FfW3wIKN5a-FWSm1-wPIdbg7P_mCQ9suNKsejQCnuf4=\n",
      "Imagen descargada correctamente\n",
      "URL de la imagen: https://media.istockphoto.com/id/609691870/photo/my-goals-are-fuelled-by-the-motivation-to-succeed.jpg?s=612x612&w=0&k=20&c=7ra7zqgM2xO3lAiMecVbe-mlSHck944K0ZmCu2-YOL8=\n",
      "Imagen descargada correctamente\n",
      "URL de la imagen: https://media.istockphoto.com/id/917745320/photo/executive-businessman-portrait.jpg?s=612x612&w=0&k=20&c=p9BGqPFJK5Q6czS9fEzChwrD6LdNec262G3g-1IvuII=\n",
      "Imagen descargada correctamente\n",
      "URL de la imagen: https://media.istockphoto.com/id/1439699853/photo/businessman-with-grizzled-hair-crossing-his-arms.jpg?s=612x612&w=0&k=20&c=-d7s1AeWfCXu8yCLy1_m8E1qMz1azt9fi6FQjsSLDEI=\n",
      "Imagen descargada correctamente\n",
      "URL de la imagen: https://media.istockphoto.com/id/2194877962/photo/portrait-of-happy-businessman.jpg?s=612x612&w=0&k=20&c=THYgA_0mz6y9APGg-e-2MKe_S6bHs2K0lmbyPXxaPj4=\n",
      "Imagen descargada correctamente\n",
      "URL de la imagen: https://media.istockphoto.com/id/176095676/photo/portrait-of-a-businessman-smiling-with-arms-crossed.jpg?s=612x612&w=0&k=20&c=zThwAZGVTtabGdno5oyYGDGPXUE9qDrElhP5UIslqek=\n",
      "Imagen descargada correctamente\n"
     ]
    }
   ],
   "source": [
    "# Define the destination folder where images will be saved\n",
    "final_folder = \"C:/Users/juans/Documents/cv/Proyectos/Extraccion de Datos/Construccion Dataset Fotos/Dataset/\"\n",
    "\n",
    "# Iterate over each URL in the list of links\n",
    "for url in links:\n",
    "    # Set Chrome options to run in headless mode (no browser UI)\n",
    "    chrome_options = Options()\n",
    "    chrome_options.add_argument(\"--headless\")\n",
    "    \n",
    "    # Initialize the Chrome WebDriver with the specified options\n",
    "    driver = webdriver.Chrome(options=chrome_options)\n",
    "\n",
    "    # Open the URL in the browser\n",
    "    driver.get(url)\n",
    "\n",
    "    # Wait until an <img> element is present on the page and retrieve it\n",
    "    img_element = WebDriverWait(driver, 5).until(\n",
    "        EC.presence_of_element_located((By.TAG_NAME, \"img\"))\n",
    "    )\n",
    "\n",
    "    # Get the 'src' attribute of the <img> element, which contains the image URL\n",
    "    img_url = img_element.get_attribute(\"src\")\n",
    "    print(f\"URL de la imagen: {img_url}\")\n",
    "\n",
    "    # Send a GET request to the image URL to download the image\n",
    "    response = requests.get(img_url)\n",
    "    if response.status_code == 200:  # Check if the request was successful\n",
    "        # Generate a unique image name based on the URL\n",
    "        img_name = url.split(\"/\")[4] + \".jpg\"\n",
    "        # Create the full path for saving the image\n",
    "        full_path = os.path.join(final_folder, img_name)\n",
    "\n",
    "        # Save the image content to the specified file\n",
    "        with open(full_path, \"wb\") as file:\n",
    "            file.write(response.content)\n",
    "        print(\"Imagen descargada correctamente\")\n",
    "    else:\n",
    "        # Print an error message if the image could not be downloaded\n",
    "        print(f\"Error al descargar la imagen: {response.status_code}\")"
   ]
  },
  {
   "cell_type": "code",
   "execution_count": null,
   "id": "a1911200",
   "metadata": {},
   "outputs": [],
   "source": []
  }
 ],
 "metadata": {
  "kernelspec": {
   "display_name": "venv",
   "language": "python",
   "name": "python3"
  },
  "language_info": {
   "codemirror_mode": {
    "name": "ipython",
    "version": 3
   },
   "file_extension": ".py",
   "mimetype": "text/x-python",
   "name": "python",
   "nbconvert_exporter": "python",
   "pygments_lexer": "ipython3",
   "version": "3.12.10"
  }
 },
 "nbformat": 4,
 "nbformat_minor": 5
}
